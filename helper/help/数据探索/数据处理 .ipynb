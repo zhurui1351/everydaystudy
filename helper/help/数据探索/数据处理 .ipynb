{
 "cells": [
  {
   "cell_type": "code",
   "execution_count": 1,
   "metadata": {
    "scrolled": false
   },
   "outputs": [
    {
     "name": "stderr",
     "output_type": "stream",
     "text": [
      "/Users/zhouzhirui/anaconda3/lib/python3.6/site-packages/IPython/core/interactiveshell.py:2717: DtypeWarning: Columns (22,32,34,49,55) have mixed types. Specify dtype option on import or set low_memory=False.\n",
      "  interactivity=interactivity, compiler=compiler, result=result)\n"
     ]
    }
   ],
   "source": [
    "import os\n",
    "import sys\n",
    "import pandas as pd\n",
    "import numpy as np\n",
    "import scipy as sp\n",
    "import seaborn as sns\n",
    "import matplotlib.pyplot as plt\n",
    "from mpl_toolkits.mplot3d import Axes3D\n",
    "\n",
    "\n",
    "%matplotlib inline\n",
    "plt.style.use(u'fivethirtyeight')\n",
    "\n",
    "path = '/Users/zhouzhirui/Documents/data/zillow/'\n",
    "os.chdir(path)\n",
    "os.listdir()\n",
    "\n",
    "properties = pd.read_csv('properties_2016.csv')\n",
    "train = pd.read_csv('train_2016_v2.csv',parse_dates=[\"transactiondate\"])\n",
    "properties_info = pd.read_csv('featureInfo_utf8.csv')\n",
    "\n",
    "map_dict = dict(zip(properties_info.Feature,properties_info.feature_map))\n",
    "properties.columns = map(lambda x: map_dict[x], properties.columns)"
   ]
  },
  {
   "cell_type": "markdown",
   "metadata": {},
   "source": [
    "## 缺失值特征"
   ]
  },
  {
   "cell_type": "code",
   "execution_count": 2,
   "metadata": {
    "collapsed": true
   },
   "outputs": [],
   "source": [
    "properties = properties.fillna(np.nan)\n",
    "properties['_nan_num'] = properties.isnull().sum(axis=1)\n",
    "\n",
    "area_columns = [i for i in properties.columns if i[:4] == 'area']\n",
    "properties['_nan_area_num'] = properties[area_columns].isnull().sum(axis=1)\n",
    "\n",
    "region_columns = [i for i in properties.columns if i[:6] == 'region']\n",
    "region_columns.extend(['longitude','latitude','fips'])\n",
    "properties['_nan_region_num'] = properties[region_columns].isnull().sum(axis=1)\n",
    "\n",
    "tax_columns = [i for i in properties.columns if i[:3] == 'tax']\n",
    "properties['_nan_tax_num'] = properties[tax_columns].isnull().sum(axis=1)"
   ]
  },
  {
   "cell_type": "markdown",
   "metadata": {},
   "source": [
    "## region数据处理"
   ]
  },
  {
   "cell_type": "code",
   "execution_count": 3,
   "metadata": {},
   "outputs": [
    {
     "data": {
      "text/plain": [
       "['region_city',\n",
       " 'region_county',\n",
       " 'region_neighbor',\n",
       " 'region_zip',\n",
       " 'longitude',\n",
       " 'latitude',\n",
       " 'fips']"
      ]
     },
     "execution_count": 3,
     "metadata": {},
     "output_type": "execute_result"
    }
   ],
   "source": [
    "region_columns = [i for i in properties.columns if i[:6] == 'region']\n",
    "region_columns.extend(['longitude','latitude','fips'])\n",
    "region_columns"
   ]
  },
  {
   "cell_type": "markdown",
   "metadata": {},
   "source": [
    "### 删除fips"
   ]
  },
  {
   "cell_type": "code",
   "execution_count": 8,
   "metadata": {},
   "outputs": [],
   "source": [
    "properties.drop('fips',axis=1,inplace=True)\n",
    "region_columns.remove('fips')"
   ]
  },
  {
   "cell_type": "code",
   "execution_count": 9,
   "metadata": {},
   "outputs": [
    {
     "data": {
      "text/plain": [
       "region_city          62845\n",
       "region_county        11437\n",
       "region_neighbor    1828815\n",
       "region_zip           13980\n",
       "longitude            11437\n",
       "latitude             11437\n",
       "dtype: int64"
      ]
     },
     "execution_count": 9,
     "metadata": {},
     "output_type": "execute_result"
    }
   ],
   "source": [
    "properties[region_columns].isnull().sum()"
   ]
  },
  {
   "cell_type": "markdown",
   "metadata": {},
   "source": [
    "### 填充region city na values,增加对应的nan标签"
   ]
  },
  {
   "cell_type": "code",
   "execution_count": 10,
   "metadata": {},
   "outputs": [
    {
     "data": {
      "text/plain": [
       "KNeighborsClassifier(algorithm='auto', leaf_size=30, metric='minkowski',\n",
       "           metric_params=None, n_jobs=1, n_neighbors=5, p=2,\n",
       "           weights='uniform')"
      ]
     },
     "execution_count": 10,
     "metadata": {},
     "output_type": "execute_result"
    }
   ],
   "source": [
    "from sklearn.neighbors import KNeighborsClassifier\n",
    "knn_city = KNeighborsClassifier()\n",
    "tmp = properties[['region_city','latitude','longitude']].dropna().copy()\n",
    "knn = KNeighborsClassifier()\n",
    "knn.fit(tmp[['latitude','longitude']].values,tmp.region_city.values)"
   ]
  },
  {
   "cell_type": "code",
   "execution_count": 10,
   "metadata": {},
   "outputs": [
    {
     "data": {
      "text/plain": [
       "0.99899020384810699"
      ]
     },
     "execution_count": 10,
     "metadata": {},
     "output_type": "execute_result"
    }
   ],
   "source": [
    "knn.score(tmp[['latitude','longitude']].values,tmp.region_city.values)"
   ]
  },
  {
   "cell_type": "code",
   "execution_count": 11,
   "metadata": {},
   "outputs": [
    {
     "data": {
      "text/plain": [
       "array([11114347, 11116947, 11681747, ..., 11126286, 11025289, 14599147])"
      ]
     },
     "execution_count": 11,
     "metadata": {},
     "output_type": "execute_result"
    }
   ],
   "source": [
    "misscity_id = properties[(properties.region_city.isnull())&(-properties.longitude.isnull())].parcelid.values\n",
    "misscity_id"
   ]
  },
  {
   "cell_type": "code",
   "execution_count": 15,
   "metadata": {},
   "outputs": [],
   "source": [
    "misscity_city = knn.predict(properties[properties.parcelid.isin(misscity_id)][['latitude','longitude']].values)"
   ]
  },
  {
   "cell_type": "code",
   "execution_count": 16,
   "metadata": {},
   "outputs": [],
   "source": [
    "properties.loc[properties.parcelid.isin(misscity_id),'region_city'] = misscity_city"
   ]
  },
  {
   "cell_type": "code",
   "execution_count": 13,
   "metadata": {
    "collapsed": true
   },
   "outputs": [],
   "source": [
    "properties['_nan_region_city'] = 0\n",
    "properties.loc[properties.parcelid.isin(misscity_id),'_nan_region_city'] = 1"
   ]
  },
  {
   "cell_type": "code",
   "execution_count": 17,
   "metadata": {},
   "outputs": [],
   "source": [
    "del misscity_city,misscity_id,knn,knn_city"
   ]
  },
  {
   "cell_type": "markdown",
   "metadata": {},
   "source": [
    "### 填充 zip, 增加nan_zip label"
   ]
  },
  {
   "cell_type": "code",
   "execution_count": 20,
   "metadata": {},
   "outputs": [
    {
     "data": {
      "text/plain": [
       "region_city          11437\n",
       "region_county        11437\n",
       "region_neighbor    1828815\n",
       "region_zip           13980\n",
       "longitude            11437\n",
       "latitude             11437\n",
       "dtype: int64"
      ]
     },
     "execution_count": 20,
     "metadata": {},
     "output_type": "execute_result"
    }
   ],
   "source": [
    "properties[region_columns].isnull().sum()"
   ]
  },
  {
   "cell_type": "code",
   "execution_count": 21,
   "metadata": {},
   "outputs": [
    {
     "data": {
      "text/plain": [
       "KNeighborsClassifier(algorithm='auto', leaf_size=30, metric='minkowski',\n",
       "           metric_params=None, n_jobs=1, n_neighbors=5, p=2,\n",
       "           weights='uniform')"
      ]
     },
     "execution_count": 21,
     "metadata": {},
     "output_type": "execute_result"
    }
   ],
   "source": [
    "knn = KNeighborsClassifier()\n",
    "tmp = properties[['region_zip','latitude','longitude']].dropna().copy()\n",
    "knn.fit(tmp[['latitude','longitude']].values,tmp.region_zip.values)"
   ]
  },
  {
   "cell_type": "code",
   "execution_count": 22,
   "metadata": {},
   "outputs": [
    {
     "data": {
      "text/plain": [
       "array([76914147, 76914347, 76914547, ..., 14510752, 17258653, 14599147])"
      ]
     },
     "execution_count": 22,
     "metadata": {},
     "output_type": "execute_result"
    }
   ],
   "source": [
    "misszip_id = properties[(properties.region_zip.isnull())&(-properties.longitude.isnull())].parcelid.values\n",
    "misszip_id"
   ]
  },
  {
   "cell_type": "code",
   "execution_count": 23,
   "metadata": {
    "collapsed": true
   },
   "outputs": [],
   "source": [
    "misscity_zip = knn.predict(properties[properties.parcelid.isin(misszip_id)][['latitude','longitude']].values)"
   ]
  },
  {
   "cell_type": "code",
   "execution_count": 24,
   "metadata": {},
   "outputs": [],
   "source": [
    "properties.loc[properties.parcelid.isin(misszip_id),'region_zip'] = misscity_zip"
   ]
  },
  {
   "cell_type": "code",
   "execution_count": 25,
   "metadata": {
    "collapsed": true
   },
   "outputs": [],
   "source": [
    "properties['_nan_region_zip'] = 0\n",
    "properties.loc[properties.parcelid.isin(misszip_id),'_nan_region_zip'] = 1"
   ]
  },
  {
   "cell_type": "code",
   "execution_count": 26,
   "metadata": {
    "collapsed": true
   },
   "outputs": [],
   "source": [
    "del misscity_zip,misszip_id,knn,tmp"
   ]
  },
  {
   "cell_type": "code",
   "execution_count": 27,
   "metadata": {},
   "outputs": [
    {
     "data": {
      "text/plain": [
       "region_city          11437\n",
       "region_county        11437\n",
       "region_neighbor    1828815\n",
       "region_zip           11437\n",
       "longitude            11437\n",
       "latitude             11437\n",
       "dtype: int64"
      ]
     },
     "execution_count": 27,
     "metadata": {},
     "output_type": "execute_result"
    }
   ],
   "source": [
    "properties[region_columns].isnull().sum()"
   ]
  },
  {
   "cell_type": "markdown",
   "metadata": {},
   "source": [
    "## Area 数据处理"
   ]
  },
  {
   "cell_type": "code",
   "execution_count": 28,
   "metadata": {},
   "outputs": [
    {
     "data": {
      "text/plain": [
       "['area_basement',\n",
       " 'area_firstfloor_finished',\n",
       " 'area_total_calc',\n",
       " 'area_live_finished',\n",
       " 'area_liveperi_finished',\n",
       " 'area_total_finished',\n",
       " 'area_unknown',\n",
       " 'area_base',\n",
       " 'area_garage',\n",
       " 'area_lot',\n",
       " 'area_pool',\n",
       " 'area_patio',\n",
       " 'area_shed']"
      ]
     },
     "execution_count": 28,
     "metadata": {},
     "output_type": "execute_result"
    }
   ],
   "source": [
    "area_columns = [i for i in list(properties.columns) if 'area' == i[:4]]\n",
    "area_columns"
   ]
  },
  {
   "cell_type": "code",
   "execution_count": 35,
   "metadata": {},
   "outputs": [
    {
     "data": {
      "text/plain": [
       "area_basement               2983589\n",
       "area_firstfloor_finished    2782500\n",
       "area_total_calc               55565\n",
       "area_live_finished           276033\n",
       "area_liveperi_finished      2977545\n",
       "area_total_finished         2794419\n",
       "area_unknown                2782500\n",
       "area_base                   2963216\n",
       "area_garage                 2101950\n",
       "area_lot                     276099\n",
       "area_pool                   2957257\n",
       "area_patio                  2904862\n",
       "area_shed                   2982570\n",
       "dtype: int64"
      ]
     },
     "execution_count": 35,
     "metadata": {},
     "output_type": "execute_result"
    }
   ],
   "source": [
    "properties[area_columns].isnull().sum()"
   ]
  },
  {
   "cell_type": "code",
   "execution_count": 43,
   "metadata": {},
   "outputs": [
    {
     "data": {
      "text/html": [
       "<div>\n",
       "<style>\n",
       "    .dataframe thead tr:only-child th {\n",
       "        text-align: right;\n",
       "    }\n",
       "\n",
       "    .dataframe thead th {\n",
       "        text-align: left;\n",
       "    }\n",
       "\n",
       "    .dataframe tbody tr th {\n",
       "        vertical-align: top;\n",
       "    }\n",
       "</style>\n",
       "<table border=\"1\" class=\"dataframe\">\n",
       "  <thead>\n",
       "    <tr style=\"text-align: right;\">\n",
       "      <th></th>\n",
       "      <th>area_total_calc</th>\n",
       "      <th>area_total_finished</th>\n",
       "      <th>area_base</th>\n",
       "      <th>area_live_finished</th>\n",
       "      <th>area_liveperi_finished</th>\n",
       "    </tr>\n",
       "  </thead>\n",
       "  <tbody>\n",
       "    <tr>\n",
       "      <th>area_total_calc</th>\n",
       "      <td>1.000000</td>\n",
       "      <td>0.999994</td>\n",
       "      <td>1.0</td>\n",
       "      <td>1.0</td>\n",
       "      <td>1.0</td>\n",
       "    </tr>\n",
       "    <tr>\n",
       "      <th>area_total_finished</th>\n",
       "      <td>0.999994</td>\n",
       "      <td>1.000000</td>\n",
       "      <td>NaN</td>\n",
       "      <td>1.0</td>\n",
       "      <td>NaN</td>\n",
       "    </tr>\n",
       "    <tr>\n",
       "      <th>area_base</th>\n",
       "      <td>1.000000</td>\n",
       "      <td>NaN</td>\n",
       "      <td>1.0</td>\n",
       "      <td>NaN</td>\n",
       "      <td>NaN</td>\n",
       "    </tr>\n",
       "    <tr>\n",
       "      <th>area_live_finished</th>\n",
       "      <td>1.000000</td>\n",
       "      <td>1.000000</td>\n",
       "      <td>NaN</td>\n",
       "      <td>1.0</td>\n",
       "      <td>NaN</td>\n",
       "    </tr>\n",
       "    <tr>\n",
       "      <th>area_liveperi_finished</th>\n",
       "      <td>1.000000</td>\n",
       "      <td>NaN</td>\n",
       "      <td>NaN</td>\n",
       "      <td>NaN</td>\n",
       "      <td>1.0</td>\n",
       "    </tr>\n",
       "  </tbody>\n",
       "</table>\n",
       "</div>"
      ],
      "text/plain": [
       "                        area_total_calc  area_total_finished  area_base  \\\n",
       "area_total_calc                1.000000             0.999994        1.0   \n",
       "area_total_finished            0.999994             1.000000        NaN   \n",
       "area_base                      1.000000                  NaN        1.0   \n",
       "area_live_finished             1.000000             1.000000        NaN   \n",
       "area_liveperi_finished         1.000000                  NaN        NaN   \n",
       "\n",
       "                        area_live_finished  area_liveperi_finished  \n",
       "area_total_calc                        1.0                     1.0  \n",
       "area_total_finished                    1.0                     NaN  \n",
       "area_base                              NaN                     NaN  \n",
       "area_live_finished                     1.0                     NaN  \n",
       "area_liveperi_finished                 NaN                     1.0  "
      ]
     },
     "execution_count": 43,
     "metadata": {},
     "output_type": "execute_result"
    }
   ],
   "source": [
    "properties[['area_total_calc','area_total_finished','area_base','area_live_finished','area_liveperi_finished']].corr()"
   ]
  },
  {
   "cell_type": "markdown",
   "metadata": {},
   "source": [
    "相关系数几乎全为1"
   ]
  },
  {
   "cell_type": "code",
   "execution_count": 42,
   "metadata": {},
   "outputs": [
    {
     "data": {
      "text/plain": [
       "<matplotlib.axes._subplots.AxesSubplot at 0x11bd752b0>"
      ]
     },
     "execution_count": 42,
     "metadata": {},
     "output_type": "execute_result"
    },
    {
     "data": {
      "image/png": "[encoded data removed]",
      "text/plain": [
       "<matplotlib.figure.Figure at 0x11bd88240>"
      ]
     },
     "metadata": {},
     "output_type": "display_data"
    }
   ],
   "source": [
    "sns.heatmap(properties[['area_total_calc','area_total_finished','area_base','area_live_finished','area_liveperi_finished']].corr(),annot=True)"
   ]
  },
  {
   "cell_type": "markdown",
   "metadata": {},
   "source": [
    "把唯一不为1 area_total_finished 和 area_total_calc 拉出来看看"
   ]
  },
  {
   "cell_type": "code",
   "execution_count": 30,
   "metadata": {},
   "outputs": [
    {
     "data": {
      "text/html": [
       "<div>\n",
       "<style>\n",
       "    .dataframe thead tr:only-child th {\n",
       "        text-align: right;\n",
       "    }\n",
       "\n",
       "    .dataframe thead th {\n",
       "        text-align: left;\n",
       "    }\n",
       "\n",
       "    .dataframe tbody tr th {\n",
       "        vertical-align: top;\n",
       "    }\n",
       "</style>\n",
       "<table border=\"1\" class=\"dataframe\">\n",
       "  <thead>\n",
       "    <tr style=\"text-align: right;\">\n",
       "      <th></th>\n",
       "      <th>parcelid</th>\n",
       "      <th>area_total_calc</th>\n",
       "      <th>area_total_finished</th>\n",
       "    </tr>\n",
       "  </thead>\n",
       "  <tbody>\n",
       "    <tr>\n",
       "      <th>1011473</th>\n",
       "      <td>17053873</td>\n",
       "      <td>2603.0</td>\n",
       "      <td>5206.0</td>\n",
       "    </tr>\n",
       "    <tr>\n",
       "      <th>2276060</th>\n",
       "      <td>17231357</td>\n",
       "      <td>5712.0</td>\n",
       "      <td>11424.0</td>\n",
       "    </tr>\n",
       "    <tr>\n",
       "      <th>2959851</th>\n",
       "      <td>17231374</td>\n",
       "      <td>4944.0</td>\n",
       "      <td>9888.0</td>\n",
       "    </tr>\n",
       "  </tbody>\n",
       "</table>\n",
       "</div>"
      ],
      "text/plain": [
       "         parcelid  area_total_calc  area_total_finished\n",
       "1011473  17053873           2603.0               5206.0\n",
       "2276060  17231357           5712.0              11424.0\n",
       "2959851  17231374           4944.0               9888.0"
      ]
     },
     "execution_count": 30,
     "metadata": {},
     "output_type": "execute_result"
    }
   ],
   "source": [
    "properties[properties.area_total_calc!=properties.area_total_finished][['parcelid','area_total_calc','area_total_finished']].dropna()"
   ]
  },
  {
   "cell_type": "code",
   "execution_count": 31,
   "metadata": {},
   "outputs": [
    {
     "data": {
      "text/html": [
       "<div>\n",
       "<style>\n",
       "    .dataframe thead tr:only-child th {\n",
       "        text-align: right;\n",
       "    }\n",
       "\n",
       "    .dataframe thead th {\n",
       "        text-align: left;\n",
       "    }\n",
       "\n",
       "    .dataframe tbody tr th {\n",
       "        vertical-align: top;\n",
       "    }\n",
       "</style>\n",
       "<table border=\"1\" class=\"dataframe\">\n",
       "  <thead>\n",
       "    <tr style=\"text-align: right;\">\n",
       "      <th></th>\n",
       "      <th>area_basement</th>\n",
       "      <th>area_firstfloor_finished</th>\n",
       "      <th>area_total_calc</th>\n",
       "      <th>area_live_finished</th>\n",
       "      <th>area_liveperi_finished</th>\n",
       "      <th>area_total_finished</th>\n",
       "      <th>area_unknown</th>\n",
       "      <th>area_base</th>\n",
       "      <th>area_garage</th>\n",
       "      <th>area_lot</th>\n",
       "      <th>area_pool</th>\n",
       "      <th>area_patio</th>\n",
       "      <th>area_shed</th>\n",
       "    </tr>\n",
       "  </thead>\n",
       "  <tbody>\n",
       "    <tr>\n",
       "      <th>1011473</th>\n",
       "      <td>NaN</td>\n",
       "      <td>2603.0</td>\n",
       "      <td>2603.0</td>\n",
       "      <td>NaN</td>\n",
       "      <td>NaN</td>\n",
       "      <td>5206.0</td>\n",
       "      <td>2603.0</td>\n",
       "      <td>NaN</td>\n",
       "      <td>0.0</td>\n",
       "      <td>182952.0</td>\n",
       "      <td>NaN</td>\n",
       "      <td>NaN</td>\n",
       "      <td>NaN</td>\n",
       "    </tr>\n",
       "    <tr>\n",
       "      <th>2276060</th>\n",
       "      <td>NaN</td>\n",
       "      <td>2856.0</td>\n",
       "      <td>5712.0</td>\n",
       "      <td>NaN</td>\n",
       "      <td>NaN</td>\n",
       "      <td>11424.0</td>\n",
       "      <td>2856.0</td>\n",
       "      <td>NaN</td>\n",
       "      <td>0.0</td>\n",
       "      <td>11169.0</td>\n",
       "      <td>NaN</td>\n",
       "      <td>3120.0</td>\n",
       "      <td>NaN</td>\n",
       "    </tr>\n",
       "    <tr>\n",
       "      <th>2959851</th>\n",
       "      <td>NaN</td>\n",
       "      <td>2858.0</td>\n",
       "      <td>4944.0</td>\n",
       "      <td>NaN</td>\n",
       "      <td>NaN</td>\n",
       "      <td>9888.0</td>\n",
       "      <td>2858.0</td>\n",
       "      <td>NaN</td>\n",
       "      <td>0.0</td>\n",
       "      <td>9429.0</td>\n",
       "      <td>NaN</td>\n",
       "      <td>884.0</td>\n",
       "      <td>NaN</td>\n",
       "    </tr>\n",
       "  </tbody>\n",
       "</table>\n",
       "</div>"
      ],
      "text/plain": [
       "         area_basement  area_firstfloor_finished  area_total_calc  \\\n",
       "1011473            NaN                    2603.0           2603.0   \n",
       "2276060            NaN                    2856.0           5712.0   \n",
       "2959851            NaN                    2858.0           4944.0   \n",
       "\n",
       "         area_live_finished  area_liveperi_finished  area_total_finished  \\\n",
       "1011473                 NaN                     NaN               5206.0   \n",
       "2276060                 NaN                     NaN              11424.0   \n",
       "2959851                 NaN                     NaN               9888.0   \n",
       "\n",
       "         area_unknown  area_base  area_garage  area_lot  area_pool  \\\n",
       "1011473        2603.0        NaN          0.0  182952.0        NaN   \n",
       "2276060        2856.0        NaN          0.0   11169.0        NaN   \n",
       "2959851        2858.0        NaN          0.0    9429.0        NaN   \n",
       "\n",
       "         area_patio  area_shed  \n",
       "1011473         NaN        NaN  \n",
       "2276060      3120.0        NaN  \n",
       "2959851       884.0        NaN  "
      ]
     },
     "execution_count": 31,
     "metadata": {},
     "output_type": "execute_result"
    }
   ],
   "source": [
    "properties[properties.parcelid.isin([17053873.,17231357.,17231374.])][area_columns]"
   ]
  },
  {
   "cell_type": "markdown",
   "metadata": {},
   "source": [
    "看下其他数据，area_total_calc更加合理"
   ]
  },
  {
   "cell_type": "code",
   "execution_count": 33,
   "metadata": {},
   "outputs": [
    {
     "data": {
      "text/plain": [
       "(2738854, 63)"
      ]
     },
     "execution_count": 33,
     "metadata": {},
     "output_type": "execute_result"
    }
   ],
   "source": [
    "properties[(-properties.area_total_calc.isnull())&(properties.area_total_finished.isnull())].shape"
   ]
  },
  {
   "cell_type": "code",
   "execution_count": 32,
   "metadata": {},
   "outputs": [
    {
     "data": {
      "text/plain": [
       "(0, 63)"
      ]
     },
     "execution_count": 32,
     "metadata": {},
     "output_type": "execute_result"
    }
   ],
   "source": [
    "properties[(properties.area_total_calc.isnull())&(-properties.area_total_finished.isnull())].shape"
   ]
  },
  {
   "cell_type": "markdown",
   "metadata": {},
   "source": [
    "### 删除 area_totle_finished\n",
    "### 增加特征 finished空，calc不为空"
   ]
  },
  {
   "cell_type": "code",
   "execution_count": 44,
   "metadata": {},
   "outputs": [],
   "source": [
    "properties['_nan_area_totle_finished'] = 0\n",
    "properties.loc[properties[(-properties.area_total_calc.isnull())&(properties.area_total_finished.isnull())].index,\n",
    "              '_nan_area_totle_finished'] = 1\n",
    "del properties['_nan_area_totle_finished']"
   ]
  },
  {
   "cell_type": "markdown",
   "metadata": {},
   "source": [
    "### 删除 area_base\n",
    "### 增加特征 base空，calc不为空"
   ]
  },
  {
   "cell_type": "code",
   "execution_count": 45,
   "metadata": {
    "collapsed": true
   },
   "outputs": [],
   "source": [
    "properties['_nan_area_base'] = 0\n",
    "properties.loc[properties[(-properties.area_total_calc.isnull())&(properties.area_base.isnull())].index,\n",
    "              '_nan_area_base'] = 1\n",
    "del properties['area_base']\n",
    "area_columns.remove('area_base')\n",
    "area_columns.remove('area_total_finished')"
   ]
  },
  {
   "cell_type": "markdown",
   "metadata": {},
   "source": [
    "### 删除 area_live_finished\n",
    "### 删除 area_liveperi_finished\n",
    "### 增加特征 livef空，calc不为空\n",
    "### 增加特征 liveperi为空，calc不为空"
   ]
  },
  {
   "cell_type": "code",
   "execution_count": 48,
   "metadata": {
    "collapsed": true
   },
   "outputs": [],
   "source": [
    "properties['_nan_area_live_finished'] = 0\n",
    "properties['_nan_area_liveperi_finished'] = 0\n",
    "\n",
    "properties.loc[properties[(-properties.area_total_calc.isnull())&(properties.area_live_finished.isnull())].index,\n",
    "              '_nan_area_live_finished'] = 1\n",
    "properties.loc[properties[(-properties.area_total_calc.isnull())&(properties.area_liveperi_finished.isnull())].index,\n",
    "              '_nan_area_liveperi_finished'] = 1\n",
    "del properties['area_live_finished']\n",
    "del properties['area_liveperi_finished']\n",
    "area_columns.remove('area_live_finished')\n",
    "area_columns.remove('area_liveperi_finished')"
   ]
  },
  {
   "cell_type": "code",
   "execution_count": 49,
   "metadata": {},
   "outputs": [
    {
     "data": {
      "text/plain": [
       "<matplotlib.axes._subplots.AxesSubplot at 0x11cda5978>"
      ]
     },
     "execution_count": 49,
     "metadata": {},
     "output_type": "execute_result"
    },
    {
     "data": {
      "image/png": "[encoded data removed]",
      "text/plain": [
       "<matplotlib.figure.Figure at 0x11cdf4780>"
      ]
     },
     "metadata": {},
     "output_type": "display_data"
    }
   ],
   "source": [
    "sns.heatmap(properties[area_columns].corr(),annot=True)"
   ]
  },
  {
   "cell_type": "markdown",
   "metadata": {},
   "source": [
    "好看了很多。。再看看area_unkown，官方解释中，这个变量和area_firstfloor_finished是一样的，两个的相关系数也达到了0.97"
   ]
  },
  {
   "cell_type": "code",
   "execution_count": 50,
   "metadata": {},
   "outputs": [
    {
     "data": {
      "text/plain": [
       "area_unknown                2782500\n",
       "area_firstfloor_finished    2782500\n",
       "dtype: int64"
      ]
     },
     "execution_count": 50,
     "metadata": {},
     "output_type": "execute_result"
    }
   ],
   "source": [
    "properties[['area_unknown','area_firstfloor_finished']].isnull().sum()"
   ]
  },
  {
   "cell_type": "code",
   "execution_count": 51,
   "metadata": {},
   "outputs": [
    {
     "data": {
      "text/html": [
       "<div>\n",
       "<style>\n",
       "    .dataframe thead tr:only-child th {\n",
       "        text-align: right;\n",
       "    }\n",
       "\n",
       "    .dataframe thead th {\n",
       "        text-align: left;\n",
       "    }\n",
       "\n",
       "    .dataframe tbody tr th {\n",
       "        vertical-align: top;\n",
       "    }\n",
       "</style>\n",
       "<table border=\"1\" class=\"dataframe\">\n",
       "  <thead>\n",
       "    <tr style=\"text-align: right;\">\n",
       "      <th></th>\n",
       "      <th>area_unknown</th>\n",
       "      <th>area_firstfloor_finished</th>\n",
       "    </tr>\n",
       "  </thead>\n",
       "  <tbody>\n",
       "    <tr>\n",
       "      <th>295</th>\n",
       "      <td>4969.0</td>\n",
       "      <td>4969.0</td>\n",
       "    </tr>\n",
       "    <tr>\n",
       "      <th>296</th>\n",
       "      <td>1080.0</td>\n",
       "      <td>1080.0</td>\n",
       "    </tr>\n",
       "    <tr>\n",
       "      <th>297</th>\n",
       "      <td>780.0</td>\n",
       "      <td>780.0</td>\n",
       "    </tr>\n",
       "    <tr>\n",
       "      <th>298</th>\n",
       "      <td>1250.0</td>\n",
       "      <td>1250.0</td>\n",
       "    </tr>\n",
       "    <tr>\n",
       "      <th>299</th>\n",
       "      <td>1404.0</td>\n",
       "      <td>1404.0</td>\n",
       "    </tr>\n",
       "  </tbody>\n",
       "</table>\n",
       "</div>"
      ],
      "text/plain": [
       "     area_unknown  area_firstfloor_finished\n",
       "295        4969.0                    4969.0\n",
       "296        1080.0                    1080.0\n",
       "297         780.0                     780.0\n",
       "298        1250.0                    1250.0\n",
       "299        1404.0                    1404.0"
      ]
     },
     "execution_count": 51,
     "metadata": {},
     "output_type": "execute_result"
    }
   ],
   "source": [
    "properties[['area_unknown','area_firstfloor_finished']].dropna().head()"
   ]
  },
  {
   "cell_type": "markdown",
   "metadata": {},
   "source": [
    "unknown 和 firstfloor_finished不相等的抽出来看看"
   ]
  },
  {
   "cell_type": "code",
   "execution_count": 52,
   "metadata": {},
   "outputs": [],
   "source": [
    "tmp = properties[properties.area_unknown!=properties.area_firstfloor_finished][['area_unknown','area_firstfloor_finished','area_total_calc']].dropna().copy()"
   ]
  },
  {
   "cell_type": "code",
   "execution_count": 53,
   "metadata": {},
   "outputs": [],
   "source": [
    "tmp['unknown_total'] = tmp.area_unknown/tmp.area_total_calc\n",
    "tmp['firstfloor_total'] = tmp.area_firstfloor_finished/tmp.area_total_calc"
   ]
  },
  {
   "cell_type": "code",
   "execution_count": 54,
   "metadata": {},
   "outputs": [
    {
     "data": {
      "text/html": [
       "<div>\n",
       "<style>\n",
       "    .dataframe thead tr:only-child th {\n",
       "        text-align: right;\n",
       "    }\n",
       "\n",
       "    .dataframe thead th {\n",
       "        text-align: left;\n",
       "    }\n",
       "\n",
       "    .dataframe tbody tr th {\n",
       "        vertical-align: top;\n",
       "    }\n",
       "</style>\n",
       "<table border=\"1\" class=\"dataframe\">\n",
       "  <thead>\n",
       "    <tr style=\"text-align: right;\">\n",
       "      <th></th>\n",
       "      <th>area_unknown</th>\n",
       "      <th>area_firstfloor_finished</th>\n",
       "      <th>area_total_calc</th>\n",
       "      <th>unknown_total</th>\n",
       "      <th>firstfloor_total</th>\n",
       "    </tr>\n",
       "  </thead>\n",
       "  <tbody>\n",
       "    <tr>\n",
       "      <th>count</th>\n",
       "      <td>881.000000</td>\n",
       "      <td>881.000000</td>\n",
       "      <td>881.000000</td>\n",
       "      <td>881.000000</td>\n",
       "      <td>881.000000</td>\n",
       "    </tr>\n",
       "    <tr>\n",
       "      <th>mean</th>\n",
       "      <td>3793.354143</td>\n",
       "      <td>1880.271283</td>\n",
       "      <td>2496.496027</td>\n",
       "      <td>1.613732</td>\n",
       "      <td>0.800962</td>\n",
       "    </tr>\n",
       "    <tr>\n",
       "      <th>std</th>\n",
       "      <td>2265.744681</td>\n",
       "      <td>1116.091729</td>\n",
       "      <td>1598.208624</td>\n",
       "      <td>0.485708</td>\n",
       "      <td>0.252691</td>\n",
       "    </tr>\n",
       "    <tr>\n",
       "      <th>min</th>\n",
       "      <td>289.000000</td>\n",
       "      <td>105.000000</td>\n",
       "      <td>400.000000</td>\n",
       "      <td>0.179104</td>\n",
       "      <td>0.042021</td>\n",
       "    </tr>\n",
       "    <tr>\n",
       "      <th>25%</th>\n",
       "      <td>2271.000000</td>\n",
       "      <td>1115.000000</td>\n",
       "      <td>1416.000000</td>\n",
       "      <td>1.230378</td>\n",
       "      <td>0.592544</td>\n",
       "    </tr>\n",
       "    <tr>\n",
       "      <th>50%</th>\n",
       "      <td>3271.000000</td>\n",
       "      <td>1622.000000</td>\n",
       "      <td>2120.000000</td>\n",
       "      <td>1.746634</td>\n",
       "      <td>0.874826</td>\n",
       "    </tr>\n",
       "    <tr>\n",
       "      <th>75%</th>\n",
       "      <td>4716.000000</td>\n",
       "      <td>2404.000000</td>\n",
       "      <td>3063.000000</td>\n",
       "      <td>1.918428</td>\n",
       "      <td>1.000000</td>\n",
       "    </tr>\n",
       "    <tr>\n",
       "      <th>max</th>\n",
       "      <td>25686.000000</td>\n",
       "      <td>10945.000000</td>\n",
       "      <td>18117.000000</td>\n",
       "      <td>4.268293</td>\n",
       "      <td>1.877973</td>\n",
       "    </tr>\n",
       "  </tbody>\n",
       "</table>\n",
       "</div>"
      ],
      "text/plain": [
       "       area_unknown  area_firstfloor_finished  area_total_calc  unknown_total  \\\n",
       "count    881.000000                881.000000       881.000000     881.000000   \n",
       "mean    3793.354143               1880.271283      2496.496027       1.613732   \n",
       "std     2265.744681               1116.091729      1598.208624       0.485708   \n",
       "min      289.000000                105.000000       400.000000       0.179104   \n",
       "25%     2271.000000               1115.000000      1416.000000       1.230378   \n",
       "50%     3271.000000               1622.000000      2120.000000       1.746634   \n",
       "75%     4716.000000               2404.000000      3063.000000       1.918428   \n",
       "max    25686.000000              10945.000000     18117.000000       4.268293   \n",
       "\n",
       "       firstfloor_total  \n",
       "count        881.000000  \n",
       "mean           0.800962  \n",
       "std            0.252691  \n",
       "min            0.042021  \n",
       "25%            0.592544  \n",
       "50%            0.874826  \n",
       "75%            1.000000  \n",
       "max            1.877973  "
      ]
     },
     "execution_count": 54,
     "metadata": {},
     "output_type": "execute_result"
    }
   ],
   "source": [
    "tmp.describe()"
   ]
  },
  {
   "cell_type": "markdown",
   "metadata": {},
   "source": [
    "unknown 不合理的很多，比总面积还大0.0？firstfloor_finished还好一点；下午讨论这个变量"
   ]
  },
  {
   "cell_type": "markdown",
   "metadata": {},
   "source": [
    "## Num "
   ]
  },
  {
   "cell_type": "code",
   "execution_count": 76,
   "metadata": {},
   "outputs": [
    {
     "data": {
      "text/plain": [
       "['num_bathroom',\n",
       " 'num_bedroom',\n",
       " 'num_bathroom_calc',\n",
       " 'num_fireplace',\n",
       " 'num_bath',\n",
       " 'num_garage',\n",
       " 'num_pool',\n",
       " 'num_room',\n",
       " 'num_75_bath',\n",
       " 'num_unit',\n",
       " 'num_story']"
      ]
     },
     "execution_count": 76,
     "metadata": {},
     "output_type": "execute_result"
    }
   ],
   "source": [
    "num_columns = [i for i in properties.columns if 'num' == i[:3]]\n",
    "num_columns"
   ]
  },
  {
   "cell_type": "code",
   "execution_count": 77,
   "metadata": {},
   "outputs": [
    {
     "data": {
      "text/plain": [
       "<matplotlib.axes._subplots.AxesSubplot at 0x11e3524a8>"
      ]
     },
     "execution_count": 77,
     "metadata": {},
     "output_type": "execute_result"
    },
    {
     "data": {
      "image/png": "[encoded data removed]",
      "text/plain": [
       "<matplotlib.figure.Figure at 0x11d863b00>"
      ]
     },
     "metadata": {},
     "output_type": "display_data"
    }
   ],
   "source": [
    "fig = plt.figure(figsize=(12,12))\n",
    "sns.heatmap(properties[num_columns].corr(),annot=True)"
   ]
  },
  {
   "cell_type": "markdown",
   "metadata": {},
   "source": [
    "有3个变量相关系数0.99"
   ]
  },
  {
   "cell_type": "code",
   "execution_count": 61,
   "metadata": {},
   "outputs": [
    {
     "data": {
      "text/html": [
       "<div>\n",
       "<style>\n",
       "    .dataframe thead tr:only-child th {\n",
       "        text-align: right;\n",
       "    }\n",
       "\n",
       "    .dataframe thead th {\n",
       "        text-align: left;\n",
       "    }\n",
       "\n",
       "    .dataframe tbody tr th {\n",
       "        vertical-align: top;\n",
       "    }\n",
       "</style>\n",
       "<table border=\"1\" class=\"dataframe\">\n",
       "  <thead>\n",
       "    <tr style=\"text-align: right;\">\n",
       "      <th></th>\n",
       "      <th>num_bathroom</th>\n",
       "      <th>num_bathroom_calc</th>\n",
       "      <th>num_bath</th>\n",
       "    </tr>\n",
       "  </thead>\n",
       "  <tbody>\n",
       "    <tr>\n",
       "      <th>num_bathroom</th>\n",
       "      <td>1.00000</td>\n",
       "      <td>1.00000</td>\n",
       "      <td>0.98736</td>\n",
       "    </tr>\n",
       "    <tr>\n",
       "      <th>num_bathroom_calc</th>\n",
       "      <td>1.00000</td>\n",
       "      <td>1.00000</td>\n",
       "      <td>0.98736</td>\n",
       "    </tr>\n",
       "    <tr>\n",
       "      <th>num_bath</th>\n",
       "      <td>0.98736</td>\n",
       "      <td>0.98736</td>\n",
       "      <td>1.00000</td>\n",
       "    </tr>\n",
       "  </tbody>\n",
       "</table>\n",
       "</div>"
      ],
      "text/plain": [
       "                   num_bathroom  num_bathroom_calc  num_bath\n",
       "num_bathroom            1.00000            1.00000   0.98736\n",
       "num_bathroom_calc       1.00000            1.00000   0.98736\n",
       "num_bath                0.98736            0.98736   1.00000"
      ]
     },
     "execution_count": 61,
     "metadata": {},
     "output_type": "execute_result"
    }
   ],
   "source": [
    "properties[['num_bathroom','num_bathroom_calc','num_bath']].corr()"
   ]
  },
  {
   "cell_type": "code",
   "execution_count": 62,
   "metadata": {},
   "outputs": [
    {
     "data": {
      "text/plain": [
       "num_bathroom          11462\n",
       "num_bathroom_calc    128912\n",
       "num_bath             128912\n",
       "dtype: int64"
      ]
     },
     "execution_count": 62,
     "metadata": {},
     "output_type": "execute_result"
    }
   ],
   "source": [
    "properties[['num_bathroom','num_bathroom_calc','num_bath']].isnull().sum()"
   ]
  },
  {
   "cell_type": "code",
   "execution_count": 78,
   "metadata": {},
   "outputs": [
    {
     "data": {
      "text/html": [
       "<div>\n",
       "<style>\n",
       "    .dataframe thead tr:only-child th {\n",
       "        text-align: right;\n",
       "    }\n",
       "\n",
       "    .dataframe thead th {\n",
       "        text-align: left;\n",
       "    }\n",
       "\n",
       "    .dataframe tbody tr th {\n",
       "        vertical-align: top;\n",
       "    }\n",
       "</style>\n",
       "<table border=\"1\" class=\"dataframe\">\n",
       "  <thead>\n",
       "    <tr style=\"text-align: right;\">\n",
       "      <th></th>\n",
       "      <th>parcelid</th>\n",
       "      <th>aircon</th>\n",
       "      <th>architectural_style</th>\n",
       "      <th>area_basement</th>\n",
       "      <th>num_bathroom</th>\n",
       "      <th>num_bedroom</th>\n",
       "      <th>framing</th>\n",
       "      <th>quality</th>\n",
       "      <th>num_bathroom_calc</th>\n",
       "      <th>deck</th>\n",
       "      <th>...</th>\n",
       "      <th>censustractandblock</th>\n",
       "      <th>_nan_num</th>\n",
       "      <th>_nan_area_num</th>\n",
       "      <th>_nan_region_num</th>\n",
       "      <th>_nan_tax_num</th>\n",
       "      <th>_nan_region_city</th>\n",
       "      <th>_nan_region_zip</th>\n",
       "      <th>_nan_area_base</th>\n",
       "      <th>_nan_area_live_finished</th>\n",
       "      <th>_nan_area_liveperi_finished</th>\n",
       "    </tr>\n",
       "  </thead>\n",
       "  <tbody>\n",
       "  </tbody>\n",
       "</table>\n",
       "<p>0 rows × 63 columns</p>\n",
       "</div>"
      ],
      "text/plain": [
       "Empty DataFrame\n",
       "Columns: [parcelid, aircon, architectural_style, area_basement, num_bathroom, num_bedroom, framing, quality, num_bathroom_calc, deck, area_firstfloor_finished, area_total_calc, area_total_finished, area_unknown, num_fireplace, num_bath, num_garage, area_garage, flag_tub, heating, latitude, longitude, area_lot, num_pool, area_pool, pooltypeid10, pooltypeid2, pooltypeid7, zoning_landuse_county, zoning_landuse, zoning_property, rawcensustractandblock, region_city, region_county, region_neighbor, region_zip, num_room, story, num_75_bath, material, num_unit, area_patio, area_shed, build_year, num_story, flag_fireplace, tax_building, tax_total, tax_year, tax_land, tax_property, tax_delinquency, tax_delinquency_year, censustractandblock, _nan_num, _nan_area_num, _nan_region_num, _nan_tax_num, _nan_region_city, _nan_region_zip, _nan_area_base, _nan_area_live_finished, _nan_area_liveperi_finished]\n",
       "Index: []\n",
       "\n",
       "[0 rows x 63 columns]"
      ]
     },
     "execution_count": 78,
     "metadata": {},
     "output_type": "execute_result"
    }
   ],
   "source": [
    "properties[(properties.num_bathroom.isnull())&(-properties.num_bathroom_calc.isnull())]"
   ]
  },
  {
   "cell_type": "markdown",
   "metadata": {},
   "source": [
    "## 删除 num_bathroom_calc 增加缺失标签"
   ]
  },
  {
   "cell_type": "code",
   "execution_count": 79,
   "metadata": {
    "collapsed": true
   },
   "outputs": [],
   "source": [
    "properties['_nan_bathroom_calc'] = 0\n",
    "properties.loc[(properties.num_bathroom_calc.isnull())&(-properties.num_bathroom.isnull()),'_nan_bathroom_calc'] = 1\n",
    "del properties['num_bathroom_calc']\n",
    "num_columns.remove('num_bathroom_calc')"
   ]
  },
  {
   "cell_type": "code",
   "execution_count": 74,
   "metadata": {},
   "outputs": [
    {
     "data": {
      "text/plain": [
       "<matplotlib.collections.PathCollection at 0x11d701b00>"
      ]
     },
     "execution_count": 74,
     "metadata": {},
     "output_type": "execute_result"
    },
    {
     "data": {
      "image/png": "[encoded data removed]",
      "text/plain": [
       "<matplotlib.figure.Figure at 0x11e36f5c0>"
      ]
     },
     "metadata": {},
     "output_type": "display_data"
    }
   ],
   "source": [
    "plt.scatter(properties[properties.num_bathroom!=properties.num_bath][['num_bathroom','num_bath']].dropna()['num_bathroom'],\n",
    "           properties[properties.num_bathroom!=properties.num_bath][['num_bathroom','num_bath']].dropna()['num_bath'])"
   ]
  },
  {
   "cell_type": "code",
   "execution_count": 75,
   "metadata": {},
   "outputs": [
    {
     "data": {
      "text/plain": [
       "(311631,)"
      ]
     },
     "execution_count": 75,
     "metadata": {},
     "output_type": "execute_result"
    }
   ],
   "source": [
    "properties[properties.num_bathroom!=properties.num_bath][['num_bathroom','num_bath']].dropna()['num_bathroom'].shape"
   ]
  },
  {
   "cell_type": "markdown",
   "metadata": {},
   "source": [
    "## num_bath 先留着"
   ]
  },
  {
   "cell_type": "code",
   "execution_count": 85,
   "metadata": {
    "collapsed": true
   },
   "outputs": [],
   "source": [
    "tax_columns = [i for i in properties.columns if i[:3]=='tax']"
   ]
  },
  {
   "cell_type": "code",
   "execution_count": 91,
   "metadata": {},
   "outputs": [
    {
     "data": {
      "text/plain": [
       "<matplotlib.axes._subplots.AxesSubplot at 0x11ee227f0>"
      ]
     },
     "execution_count": 91,
     "metadata": {},
     "output_type": "execute_result"
    },
    {
     "data": {
      "image/png": "[encoded data removed]",
      "text/plain": [
       "<matplotlib.figure.Figure at 0x3db328dd8>"
      ]
     },
     "metadata": {},
     "output_type": "display_data"
    }
   ],
   "source": [
    "sns.heatmap(properties[tax_columns].corr(),annot=True)"
   ]
  },
  {
   "cell_type": "markdown",
   "metadata": {},
   "source": [
    "### pool"
   ]
  },
  {
   "cell_type": "code",
   "execution_count": 105,
   "metadata": {
    "collapsed": true
   },
   "outputs": [],
   "source": [
    "pool_columns =  [i for i in properties.columns if 'pool' in i]"
   ]
  },
  {
   "cell_type": "code",
   "execution_count": 106,
   "metadata": {},
   "outputs": [
    {
     "data": {
      "text/plain": [
       "['num_pool', 'area_pool', 'pooltypeid10', 'pooltypeid2', 'pooltypeid7']"
      ]
     },
     "execution_count": 106,
     "metadata": {},
     "output_type": "execute_result"
    }
   ],
   "source": [
    "pool_columns"
   ]
  },
  {
   "cell_type": "code",
   "execution_count": 107,
   "metadata": {},
   "outputs": [
    {
     "data": {
      "text/html": [
       "<div>\n",
       "<style>\n",
       "    .dataframe thead tr:only-child th {\n",
       "        text-align: right;\n",
       "    }\n",
       "\n",
       "    .dataframe thead th {\n",
       "        text-align: left;\n",
       "    }\n",
       "\n",
       "    .dataframe tbody tr th {\n",
       "        vertical-align: top;\n",
       "    }\n",
       "</style>\n",
       "<table border=\"1\" class=\"dataframe\">\n",
       "  <thead>\n",
       "    <tr style=\"text-align: right;\">\n",
       "      <th></th>\n",
       "      <th>num_pool</th>\n",
       "      <th>area_pool</th>\n",
       "      <th>pooltypeid10</th>\n",
       "      <th>pooltypeid2</th>\n",
       "      <th>pooltypeid7</th>\n",
       "    </tr>\n",
       "  </thead>\n",
       "  <tbody>\n",
       "    <tr>\n",
       "      <th>num_pool</th>\n",
       "      <td>NaN</td>\n",
       "      <td>NaN</td>\n",
       "      <td>NaN</td>\n",
       "      <td>NaN</td>\n",
       "      <td>NaN</td>\n",
       "    </tr>\n",
       "    <tr>\n",
       "      <th>area_pool</th>\n",
       "      <td>NaN</td>\n",
       "      <td>1.0</td>\n",
       "      <td>NaN</td>\n",
       "      <td>NaN</td>\n",
       "      <td>NaN</td>\n",
       "    </tr>\n",
       "    <tr>\n",
       "      <th>pooltypeid10</th>\n",
       "      <td>NaN</td>\n",
       "      <td>NaN</td>\n",
       "      <td>NaN</td>\n",
       "      <td>NaN</td>\n",
       "      <td>NaN</td>\n",
       "    </tr>\n",
       "    <tr>\n",
       "      <th>pooltypeid2</th>\n",
       "      <td>NaN</td>\n",
       "      <td>NaN</td>\n",
       "      <td>NaN</td>\n",
       "      <td>NaN</td>\n",
       "      <td>NaN</td>\n",
       "    </tr>\n",
       "    <tr>\n",
       "      <th>pooltypeid7</th>\n",
       "      <td>NaN</td>\n",
       "      <td>NaN</td>\n",
       "      <td>NaN</td>\n",
       "      <td>NaN</td>\n",
       "      <td>NaN</td>\n",
       "    </tr>\n",
       "  </tbody>\n",
       "</table>\n",
       "</div>"
      ],
      "text/plain": [
       "              num_pool  area_pool  pooltypeid10  pooltypeid2  pooltypeid7\n",
       "num_pool           NaN        NaN           NaN          NaN          NaN\n",
       "area_pool          NaN        1.0           NaN          NaN          NaN\n",
       "pooltypeid10       NaN        NaN           NaN          NaN          NaN\n",
       "pooltypeid2        NaN        NaN           NaN          NaN          NaN\n",
       "pooltypeid7        NaN        NaN           NaN          NaN          NaN"
      ]
     },
     "execution_count": 107,
     "metadata": {},
     "output_type": "execute_result"
    }
   ],
   "source": [
    "properties[pool_columns].corr()"
   ]
  },
  {
   "cell_type": "code",
   "execution_count": 109,
   "metadata": {},
   "outputs": [],
   "source": [
    "properties.to_csv('/Users/zhouzhirui/Documents/data/properties_processing.csv',index=None)"
   ]
  },
  {
   "cell_type": "code",
   "execution_count": null,
   "metadata": {
    "collapsed": true
   },
   "outputs": [],
   "source": []
  }
 ],
 "metadata": {
  "kernelspec": {
   "display_name": "Python 3",
   "language": "python",
   "name": "python3"
  },
  "language_info": {
   "codemirror_mode": {
    "name": "ipython",
    "version": 3
   },
   "file_extension": ".py",
   "mimetype": "text/x-python",
   "name": "python",
   "nbconvert_exporter": "python",
   "pygments_lexer": "ipython3",
   "version": "3.6.1"
  }
 },
 "nbformat": 4,
 "nbformat_minor": 2
}
